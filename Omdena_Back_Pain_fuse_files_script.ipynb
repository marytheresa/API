{
  "cells": [
    {
      "cell_type": "markdown",
      "metadata": {
        "id": "view-in-github",
        "colab_type": "text"
      },
      "source": [
        "<a href=\"https://colab.research.google.com/github/marytheresa/API/blob/master/Omdena_Back_Pain_fuse_files_script.ipynb\" target=\"_parent\"><img src=\"https://colab.research.google.com/assets/colab-badge.svg\" alt=\"Open In Colab\"/></a>"
      ]
    },
    {
      "cell_type": "code",
      "execution_count": null,
      "metadata": {
        "colab": {
          "base_uri": "https://localhost:8080/"
        },
        "id": "lVW4G6ygs0l4",
        "outputId": "18540ea5-4091-4a36-d8d5-ad10dd93809e"
      },
      "outputs": [
        {
          "output_type": "stream",
          "name": "stdout",
          "text": [
            "Mounted at /content/drive\n",
            "shape: (1, 5)\n",
            "┌──────┬───────────────────────┬──────────┬───────────────────────┬────────────────────────────────┐\n",
            "│ t    ┆ logger_name           ┆ priority ┆ message               ┆ user_id                        │\n",
            "│ ---  ┆ ---                   ┆ ---      ┆ ---                   ┆ ---                            │\n",
            "│ date ┆ str                   ┆ str      ┆ str                   ┆ str                            │\n",
            "╞══════╪═══════════════════════╪══════════╪═══════════════════════╪════════════════════════════════╡\n",
            "│ null ┆  data handler wrapper ┆  INFO    ┆ starting data handler ┆ 3b12d290-5ca7-43ae-9199-747d9b │\n",
            "│      ┆                       ┆          ┆ wrapper i…            ┆ fe…                            │\n",
            "└──────┴───────────────────────┴──────────┴───────────────────────┴────────────────────────────────┘\n",
            "Columns in file /content/drive/MyDrive/Colab Notebooks/Omdena/datasets/02 - intermediary/Prashanth-log.parquet:\n",
            "['t', 'logger_name', 'priority', 'message', 'user_id']\n",
            "(4145162, 5)\n",
            "[Date, Utf8, Utf8, Utf8, Utf8]\n",
            "shape: (1, 7)\n",
            "┌──────────────┬───────────────┬───────────┬────────────────┬──────┬──────┬────────────────────────┐\n",
            "│ left         ┆ right         ┆ acc       ┆ gyro           ┆ v    ┆ t    ┆ user_id                │\n",
            "│ ---          ┆ ---           ┆ ---       ┆ ---            ┆ ---  ┆ ---  ┆ ---                    │\n",
            "│ list[i32]    ┆ list[i32]     ┆ list[i32] ┆ list[i32]      ┆ i32  ┆ date ┆ str                    │\n",
            "╞══════════════╪═══════════════╪═══════════╪════════════════╪══════╪══════╪════════════════════════╡\n",
            "│ [2, 12, … 3] ┆ [-1, 5, … -2] ┆ [115, 55, ┆ [-51, 19, -15] ┆ 2024 ┆ null ┆ 3b12d290-5ca7-43ae-919 │\n",
            "│              ┆               ┆ -2168]    ┆                ┆      ┆      ┆ 9-747d9bfe…            │\n",
            "└──────────────┴───────────────┴───────────┴────────────────┴──────┴──────┴────────────────────────┘\n",
            "Columns in file /content/drive/MyDrive/Colab Notebooks/Omdena/datasets/02 - intermediary/Prashanth-raw.parquet:\n",
            "['left', 'right', 'acc', 'gyro', 'v', 't', 'user_id']\n",
            "(20041820, 7)\n",
            "[List(Int32), List(Int32), List(Int32), List(Int32), Int32, Date, Utf8]\n",
            "shape: (1, 6)\n",
            "┌──────┬────────┬─────────┬──────────┬──────────┬───────────────────────────────────┐\n",
            "│ t    ┆ score  ┆ posture ┆ movement ┆ activity ┆ user_id                           │\n",
            "│ ---  ┆ ---    ┆ ---     ┆ ---      ┆ ---      ┆ ---                               │\n",
            "│ date ┆ f64    ┆ f64     ┆ f64      ┆ str      ┆ str                               │\n",
            "╞══════╪════════╪═════════╪══════════╪══════════╪═══════════════════════════════════╡\n",
            "│ null ┆ 50.003 ┆ 50.272  ┆ 23.917   ┆  walking ┆ 3b12d290-5ca7-43ae-9199-747d9bfe… │\n",
            "└──────┴────────┴─────────┴──────────┴──────────┴───────────────────────────────────┘\n",
            "Columns in file /content/drive/MyDrive/Colab Notebooks/Omdena/datasets/02 - intermediary/Prashanth-score.parquet:\n",
            "['t', 'score', 'posture', 'movement', 'activity', 'user_id']\n",
            "(3413447, 6)\n",
            "[Date, Float64, Float64, Float64, Utf8, Utf8]\n",
            "shape: (1, 7)\n",
            "┌────────────────┬────────────────┬────────────────┬────────────────┬──────┬──────┬────────────────┐\n",
            "│ left           ┆ right          ┆ acc            ┆ gyro           ┆ v    ┆ t    ┆ user_id        │\n",
            "│ ---            ┆ ---            ┆ ---            ┆ ---            ┆ ---  ┆ ---  ┆ ---            │\n",
            "│ list[i32]      ┆ list[i32]      ┆ list[i32]      ┆ list[i32]      ┆ i32  ┆ date ┆ str            │\n",
            "╞════════════════╪════════════════╪════════════════╪════════════════╪══════╪══════╪════════════════╡\n",
            "│ [-36, -47, …   ┆ [-37, -51, …   ┆ [-2014, 166,   ┆ [-445, -110,   ┆ 1837 ┆ null ┆ ddb07ade-96b2- │\n",
            "│ 2]             ┆ 2]             ┆ 1198]          ┆ 76]            ┆      ┆      ┆ 4b57-b381-2a57 │\n",
            "│                ┆                ┆                ┆                ┆      ┆      ┆ 67c7…          │\n",
            "└────────────────┴────────────────┴────────────────┴────────────────┴──────┴──────┴────────────────┘\n",
            "Columns in file /content/drive/MyDrive/Colab Notebooks/Omdena/datasets/02 - intermediary/wilson-raw.parquet:\n",
            "['left', 'right', 'acc', 'gyro', 'v', 't', 'user_id']\n",
            "(5944349, 7)\n",
            "[List(Int32), List(Int32), List(Int32), List(Int32), Int32, Date, Utf8]\n",
            "shape: (1, 5)\n",
            "┌──────┬───────────────────────┬──────────┬───────────────────────┬────────────────────────────────┐\n",
            "│ t    ┆ logger_name           ┆ priority ┆ message               ┆ user_id                        │\n",
            "│ ---  ┆ ---                   ┆ ---      ┆ ---                   ┆ ---                            │\n",
            "│ date ┆ str                   ┆ str      ┆ str                   ┆ str                            │\n",
            "╞══════╪═══════════════════════╪══════════╪═══════════════════════╪════════════════════════════════╡\n",
            "│ null ┆  data handler wrapper ┆  INFO    ┆ starting data handler ┆ ddb07ade-96b2-4b57-b381-2a5767 │\n",
            "│      ┆                       ┆          ┆ wrapper i…            ┆ c7…                            │\n",
            "└──────┴───────────────────────┴──────────┴───────────────────────┴────────────────────────────────┘\n",
            "Columns in file /content/drive/MyDrive/Colab Notebooks/Omdena/datasets/02 - intermediary/wilson-log.parquet:\n",
            "['t', 'logger_name', 'priority', 'message', 'user_id']\n",
            "(3429853, 5)\n",
            "[Date, Utf8, Utf8, Utf8, Utf8]\n",
            "shape: (1, 6)\n",
            "┌──────┬───────┬─────────┬──────────┬──────────┬───────────────────────────────────┐\n",
            "│ t    ┆ score ┆ posture ┆ movement ┆ activity ┆ user_id                           │\n",
            "│ ---  ┆ ---   ┆ ---     ┆ ---      ┆ ---      ┆ ---                               │\n",
            "│ date ┆ f64   ┆ f64     ┆ f64      ┆ str      ┆ str                               │\n",
            "╞══════╪═══════╪═════════╪══════════╪══════════╪═══════════════════════════════════╡\n",
            "│ null ┆ 50.0  ┆ 29.232  ┆ 4.875    ┆  in hand ┆ ddb07ade-96b2-4b57-b381-2a5767c7… │\n",
            "└──────┴───────┴─────────┴──────────┴──────────┴───────────────────────────────────┘\n",
            "Columns in file /content/drive/MyDrive/Colab Notebooks/Omdena/datasets/02 - intermediary/wilson-score.parquet:\n",
            "['t', 'score', 'posture', 'movement', 'activity', 'user_id']\n",
            "(852640, 6)\n",
            "[Date, Float64, Float64, Float64, Utf8, Utf8]\n",
            "shape: (1, 6)\n",
            "┌──────┬────────┬─────────┬──────────┬──────────┬───────────────────────────────────┐\n",
            "│ t    ┆ score  ┆ posture ┆ movement ┆ activity ┆ user_id                           │\n",
            "│ ---  ┆ ---    ┆ ---     ┆ ---      ┆ ---      ┆ ---                               │\n",
            "│ date ┆ f64    ┆ f64     ┆ f64      ┆ str      ┆ str                               │\n",
            "╞══════╪════════╪═════════╪══════════╪══════════╪═══════════════════════════════════╡\n",
            "│ null ┆ 50.003 ┆ 0.137   ┆ 88.75    ┆  walking ┆ f30e1d94-f315-41a1-978b-d7400aed… │\n",
            "└──────┴────────┴─────────┴──────────┴──────────┴───────────────────────────────────┘\n",
            "Columns in file /content/drive/MyDrive/Colab Notebooks/Omdena/datasets/02 - intermediary/shruti-score.parquet:\n",
            "['t', 'score', 'posture', 'movement', 'activity', 'user_id']\n",
            "(20314, 6)\n",
            "[Date, Float64, Float64, Float64, Utf8, Utf8]\n",
            "shape: (1, 7)\n",
            "┌──────────────┬────────────────┬─────────────┬───────────────────┬──────┬──────┬──────────────────┐\n",
            "│ left         ┆ right          ┆ acc         ┆ gyro              ┆ v    ┆ t    ┆ user_id          │\n",
            "│ ---          ┆ ---            ┆ ---         ┆ ---               ┆ ---  ┆ ---  ┆ ---              │\n",
            "│ list[i32]    ┆ list[i32]      ┆ list[i32]   ┆ list[i32]         ┆ i32  ┆ date ┆ str              │\n",
            "╞══════════════╪════════════════╪═════════════╪═══════════════════╪══════╪══════╪══════════════════╡\n",
            "│ [7, 8, … -1] ┆ [35, 31, … -1] ┆ [1352, 177, ┆ [315, 175, 194]   ┆ 1916 ┆ null ┆ f30e1d94-f315-41 │\n",
            "│              ┆                ┆ 1041]       ┆                   ┆      ┆      ┆ a1-978b-d7400aed │\n",
            "│              ┆                ┆             ┆                   ┆      ┆      ┆ …                │\n",
            "└──────────────┴────────────────┴─────────────┴───────────────────┴──────┴──────┴──────────────────┘\n",
            "Columns in file /content/drive/MyDrive/Colab Notebooks/Omdena/datasets/02 - intermediary/shruti-raw.parquet:\n",
            "['left', 'right', 'acc', 'gyro', 'v', 't', 'user_id']\n",
            "(126490, 7)\n",
            "[List(Int32), List(Int32), List(Int32), List(Int32), Int32, Date, Utf8]\n",
            "shape: (1, 5)\n",
            "┌──────┬───────────────────────┬──────────┬───────────────────────┬────────────────────────────────┐\n",
            "│ t    ┆ logger_name           ┆ priority ┆ message               ┆ user_id                        │\n",
            "│ ---  ┆ ---                   ┆ ---      ┆ ---                   ┆ ---                            │\n",
            "│ date ┆ str                   ┆ str      ┆ str                   ┆ str                            │\n",
            "╞══════╪═══════════════════════╪══════════╪═══════════════════════╪════════════════════════════════╡\n",
            "│ null ┆  data handler wrapper ┆  INFO    ┆ starting data handler ┆ f30e1d94-f315-41a1-978b-d7400a │\n",
            "│      ┆                       ┆          ┆ wrapper i…            ┆ ed…                            │\n",
            "└──────┴───────────────────────┴──────────┴───────────────────────┴────────────────────────────────┘\n",
            "Columns in file /content/drive/MyDrive/Colab Notebooks/Omdena/datasets/02 - intermediary/shruti-log.parquet:\n",
            "['t', 'logger_name', 'priority', 'message', 'user_id']\n",
            "(10522, 5)\n",
            "[Date, Utf8, Utf8, Utf8, Utf8]\n",
            "shape: (1, 6)\n",
            "┌──────┬────────┬─────────┬──────────┬──────────┬───────────────────────────────────┐\n",
            "│ t    ┆ score  ┆ posture ┆ movement ┆ activity ┆ user_id                           │\n",
            "│ ---  ┆ ---    ┆ ---     ┆ ---      ┆ ---      ┆ ---                               │\n",
            "│ date ┆ f64    ┆ f64     ┆ f64      ┆ str      ┆ str                               │\n",
            "╞══════╪════════╪═════════╪══════════╪══════════╪═══════════════════════════════════╡\n",
            "│ null ┆ 51.392 ┆ 59.052  ┆ 131.778  ┆  walking ┆ 25eb158f-445b-4022-ab6c-c0c46262… │\n",
            "└──────┴────────┴─────────┴──────────┴──────────┴───────────────────────────────────┘\n",
            "Columns in file /content/drive/MyDrive/Colab Notebooks/Omdena/datasets/02 - intermediary/benito-score.parquet:\n",
            "['t', 'score', 'posture', 'movement', 'activity', 'user_id']\n",
            "(518372, 6)\n",
            "[Date, Float64, Float64, Float64, Utf8, Utf8]\n",
            "shape: (1, 5)\n",
            "┌──────┬───────────────────────┬──────────┬───────────────────────┬────────────────────────────────┐\n",
            "│ t    ┆ logger_name           ┆ priority ┆ message               ┆ user_id                        │\n",
            "│ ---  ┆ ---                   ┆ ---      ┆ ---                   ┆ ---                            │\n",
            "│ date ┆ str                   ┆ str      ┆ str                   ┆ str                            │\n",
            "╞══════╪═══════════════════════╪══════════╪═══════════════════════╪════════════════════════════════╡\n",
            "│ null ┆  data handler wrapper ┆  INFO    ┆ starting data handler ┆ 25eb158f-445b-4022-ab6c-c0c462 │\n",
            "│      ┆                       ┆          ┆ wrapper i…            ┆ 62…                            │\n",
            "└──────┴───────────────────────┴──────────┴───────────────────────┴────────────────────────────────┘\n",
            "Columns in file /content/drive/MyDrive/Colab Notebooks/Omdena/datasets/02 - intermediary/benito-log.parquet:\n",
            "['t', 'logger_name', 'priority', 'message', 'user_id']\n",
            "(592329, 5)\n",
            "[Date, Utf8, Utf8, Utf8, Utf8]\n",
            "shape: (1, 6)\n",
            "┌──────┬───────┬─────────┬──────────┬──────────┬───────────────────────────────────┐\n",
            "│ t    ┆ score ┆ posture ┆ movement ┆ activity ┆ user_id                           │\n",
            "│ ---  ┆ ---   ┆ ---     ┆ ---      ┆ ---      ┆ ---                               │\n",
            "│ date ┆ f64   ┆ f64     ┆ f64      ┆ str      ┆ str                               │\n",
            "╞══════╪═══════╪═════════╪══════════╪══════════╪═══════════════════════════════════╡\n",
            "│ null ┆ 50.0  ┆ 44.795  ┆ 8.708    ┆  in hand ┆ 07a14181-fe0d-410e-9140-a1f60275… │\n",
            "└──────┴───────┴─────────┴──────────┴──────────┴───────────────────────────────────┘\n",
            "Columns in file /content/drive/MyDrive/Colab Notebooks/Omdena/datasets/02 - intermediary/sarang-score.parquet:\n",
            "['t', 'score', 'posture', 'movement', 'activity', 'user_id']\n",
            "(483787, 6)\n",
            "[Date, Float64, Float64, Float64, Utf8, Utf8]\n",
            "shape: (1, 5)\n",
            "┌──────┬───────────────────────┬──────────┬───────────────────────┬────────────────────────────────┐\n",
            "│ t    ┆ logger_name           ┆ priority ┆ message               ┆ user_id                        │\n",
            "│ ---  ┆ ---                   ┆ ---      ┆ ---                   ┆ ---                            │\n",
            "│ date ┆ str                   ┆ str      ┆ str                   ┆ str                            │\n",
            "╞══════╪═══════════════════════╪══════════╪═══════════════════════╪════════════════════════════════╡\n",
            "│ null ┆  data handler wrapper ┆  INFO    ┆ starting data handler ┆ 07a14181-fe0d-410e-9140-a1f602 │\n",
            "│      ┆                       ┆          ┆ wrapper i…            ┆ 75…                            │\n",
            "└──────┴───────────────────────┴──────────┴───────────────────────┴────────────────────────────────┘\n",
            "Columns in file /content/drive/MyDrive/Colab Notebooks/Omdena/datasets/02 - intermediary/sarang-log.parquet:\n",
            "['t', 'logger_name', 'priority', 'message', 'user_id']\n",
            "(558598, 5)\n",
            "[Date, Utf8, Utf8, Utf8, Utf8]\n",
            "shape: (1, 7)\n",
            "┌────────────────┬──────────────┬────────────────┬─────────────────┬──────┬──────┬─────────────────┐\n",
            "│ left           ┆ right        ┆ acc            ┆ gyro            ┆ v    ┆ t    ┆ user_id         │\n",
            "│ ---            ┆ ---          ┆ ---            ┆ ---             ┆ ---  ┆ ---  ┆ ---             │\n",
            "│ list[i32]      ┆ list[i32]    ┆ list[i32]      ┆ list[i32]       ┆ i32  ┆ date ┆ str             │\n",
            "╞════════════════╪══════════════╪════════════════╪═════════════════╪══════╪══════╪═════════════════╡\n",
            "│ [-3, -4, … -1] ┆ [1, -2, … 0] ┆ [22, 24, 1915] ┆ [-92, -11, 124] ┆ 2002 ┆ null ┆ 07a14181-fe0d-4 │\n",
            "│                ┆              ┆                ┆                 ┆      ┆      ┆ 10e-9140-a1f602 │\n",
            "│                ┆              ┆                ┆                 ┆      ┆      ┆ 75…             │\n",
            "└────────────────┴──────────────┴────────────────┴─────────────────┴──────┴──────┴─────────────────┘\n",
            "Columns in file /content/drive/MyDrive/Colab Notebooks/Omdena/datasets/02 - intermediary/sarang-raw.parquet:\n",
            "['left', 'right', 'acc', 'gyro', 'v', 't', 'user_id']\n",
            "(4434492, 7)\n",
            "[List(Int32), List(Int32), List(Int32), List(Int32), Int32, Date, Utf8]\n",
            "shape: (1, 5)\n",
            "┌──────┬───────────────────────┬──────────┬───────────────────────┬────────────────────────────────┐\n",
            "│ t    ┆ logger_name           ┆ priority ┆ message               ┆ user_id                        │\n",
            "│ ---  ┆ ---                   ┆ ---      ┆ ---                   ┆ ---                            │\n",
            "│ date ┆ str                   ┆ str      ┆ str                   ┆ str                            │\n",
            "╞══════╪═══════════════════════╪══════════╪═══════════════════════╪════════════════════════════════╡\n",
            "│ null ┆  data handler wrapper ┆  INFO    ┆ starting data handler ┆ 0db4a8c8-2e97-4318-b66e-9a8e3f │\n",
            "│      ┆                       ┆          ┆ wrapper i…            ┆ a2…                            │\n",
            "└──────┴───────────────────────┴──────────┴───────────────────────┴────────────────────────────────┘\n",
            "Columns in file /content/drive/MyDrive/Colab Notebooks/Omdena/datasets/02 - intermediary/ekoue-log.parquet:\n",
            "['t', 'logger_name', 'priority', 'message', 'user_id']\n",
            "(10287032, 5)\n",
            "[Date, Utf8, Utf8, Utf8, Utf8]\n",
            "shape: (1, 7)\n",
            "┌─────────────┬─────────────┬───────────────┬────────────────┬──────┬──────┬───────────────────────┐\n",
            "│ left        ┆ right       ┆ acc           ┆ gyro           ┆ v    ┆ t    ┆ user_id               │\n",
            "│ ---         ┆ ---         ┆ ---           ┆ ---            ┆ ---  ┆ ---  ┆ ---                   │\n",
            "│ list[i32]   ┆ list[i32]   ┆ list[i32]     ┆ list[i32]      ┆ i32  ┆ date ┆ str                   │\n",
            "╞═════════════╪═════════════╪═══════════════╪════════════════╪══════╪══════╪═══════════════════════╡\n",
            "│ [2, 2, … 2] ┆ [5, 5, … 1] ┆ [4, 16, 1978] ┆ [-17, 34, -11] ┆ 2019 ┆ null ┆ 0db4a8c8-2e97-4318-b6 │\n",
            "│             ┆             ┆               ┆                ┆      ┆      ┆ 6e-9a8e3fa2…          │\n",
            "└─────────────┴─────────────┴───────────────┴────────────────┴──────┴──────┴───────────────────────┘\n",
            "Columns in file /content/drive/MyDrive/Colab Notebooks/Omdena/datasets/02 - intermediary/ekoue-raw.parquet:\n",
            "['left', 'right', 'acc', 'gyro', 'v', 't', 'user_id']\n",
            "(17814155, 7)\n",
            "[List(Int32), List(Int32), List(Int32), List(Int32), Int32, Date, Utf8]\n",
            "shape: (1, 7)\n",
            "┌─────────────┬─────────────┬───────────────┬────────────────┬──────┬──────┬───────────────────────┐\n",
            "│ left        ┆ right       ┆ acc           ┆ gyro           ┆ v    ┆ t    ┆ user_id               │\n",
            "│ ---         ┆ ---         ┆ ---           ┆ ---            ┆ ---  ┆ ---  ┆ ---                   │\n",
            "│ list[i32]   ┆ list[i32]   ┆ list[i32]     ┆ list[i32]      ┆ i32  ┆ date ┆ str                   │\n",
            "╞═════════════╪═════════════╪═══════════════╪════════════════╪══════╪══════╪═══════════════════════╡\n",
            "│ [2, 2, … 2] ┆ [5, 5, … 1] ┆ [4, 16, 1978] ┆ [-17, 34, -11] ┆ 2019 ┆ null ┆ 0db4a8c8-2e97-4318-b6 │\n",
            "│             ┆             ┆               ┆                ┆      ┆      ┆ 6e-9a8e3fa2…          │\n",
            "└─────────────┴─────────────┴───────────────┴────────────────┴──────┴──────┴───────────────────────┘\n",
            "Columns in file /content/drive/MyDrive/Colab Notebooks/Omdena/datasets/02 - intermediary/ekoue-score1.parquet:\n",
            "['left', 'right', 'acc', 'gyro', 'v', 't', 'user_id']\n",
            "(8907077, 7)\n",
            "[List(Int32), List(Int32), List(Int32), List(Int32), Int32, Date, Utf8]\n",
            "shape: (1, 7)\n",
            "┌──────────────┬───────────────┬──────────────┬─────────────────┬──────┬──────┬────────────────────┐\n",
            "│ left         ┆ right         ┆ acc          ┆ gyro            ┆ v    ┆ t    ┆ user_id            │\n",
            "│ ---          ┆ ---           ┆ ---          ┆ ---             ┆ ---  ┆ ---  ┆ ---                │\n",
            "│ list[i32]    ┆ list[i32]     ┆ list[i32]    ┆ list[i32]       ┆ i32  ┆ date ┆ str                │\n",
            "╞══════════════╪═══════════════╪══════════════╪═════════════════╪══════╪══════╪════════════════════╡\n",
            "│ [-1, 0, … 1] ┆ [-6, -5, … 2] ┆ [-2176, 134, ┆ [-82, -294, 68] ┆ 1907 ┆ null ┆ 5cde84e7-299e-49c6 │\n",
            "│              ┆               ┆ 403]         ┆                 ┆      ┆      ┆ -a4aa-fd5cd053…    │\n",
            "└──────────────┴───────────────┴──────────────┴─────────────────┴──────┴──────┴────────────────────┘\n",
            "Columns in file /content/drive/MyDrive/Colab Notebooks/Omdena/datasets/02 - intermediary/ekoue-score2.parquet:\n",
            "['left', 'right', 'acc', 'gyro', 'v', 't', 'user_id']\n",
            "(8907078, 7)\n",
            "[List(Int32), List(Int32), List(Int32), List(Int32), Int32, Date, Utf8]\n",
            "shape: (1, 7)\n",
            "┌──────────────┬─────────────┬───────────────────┬────────────┬──────┬──────┬──────────────────────┐\n",
            "│ left         ┆ right       ┆ acc               ┆ gyro       ┆ v    ┆ t    ┆ user_id              │\n",
            "│ ---          ┆ ---         ┆ ---               ┆ ---        ┆ ---  ┆ ---  ┆ ---                  │\n",
            "│ list[i64]    ┆ list[i64]   ┆ list[i64]         ┆ list[i64]  ┆ i64  ┆ date ┆ str                  │\n",
            "╞══════════════╪═════════════╪═══════════════════╪════════════╪══════╪══════╪══════════════════════╡\n",
            "│ [12, 5, … 1] ┆ [7, 0, … 0] ┆ [-1913, -91, 697] ┆ [3, 69, 7] ┆ 1938 ┆ null ┆ 25eb158f-445b-4022-a │\n",
            "│              ┆             ┆                   ┆            ┆      ┆      ┆ b6c-c0c46262…        │\n",
            "└──────────────┴─────────────┴───────────────────┴────────────┴──────┴──────┴──────────────────────┘\n",
            "Columns in file /content/drive/MyDrive/Colab Notebooks/Omdena/datasets/02 - intermediary/benito-raw.parquet:\n",
            "['left', 'right', 'acc', 'gyro', 'v', 't', 'user_id']\n",
            "(4766896, 7)\n",
            "[List(Int64), List(Int64), List(Int64), List(Int64), Int64, Date, Utf8]\n",
            "Total number of files: 19\n"
          ]
        }
      ],
      "source": [
        "import os\n",
        "import glob\n",
        "import pandas as pd\n",
        "import polars as pl\n",
        "import tensorflow as tf\n",
        "import gc\n",
        "\n",
        "from google.colab import drive\n",
        "\n",
        "# Mount Google Drive\n",
        "drive.mount('/content/drive', force_remount=True)\n",
        "\n",
        "# Specify the folder path where the .parquet files are located\n",
        "folder_path = '/content/drive/MyDrive/Colab Notebooks/Omdena/datasets/02 - intermediary'\n",
        "\n",
        "# Get a list of .parquet file paths in the folder\n",
        "file_paths = glob.glob(folder_path + '/*.parquet')\n",
        "\n",
        "# Define batch size for processing files\n",
        "batch_size = 1\n",
        "\n",
        "# Loop over the file paths and process files in batches\n",
        "count = 0\n",
        "for i in range(0, len(file_paths), batch_size):\n",
        "    batch_file_paths = file_paths[i:i+batch_size]\n",
        "\n",
        "    # Process each file in the batch\n",
        "    for file_path in batch_file_paths:\n",
        "        count += 1\n",
        "        df = pl.read_parquet(file_path)\n",
        "        if '__index_level_0__' in df.columns:\n",
        "            df = df.drop('__index_level_0__')\n",
        "\n",
        "        df = df.with_columns(pl.col(\"t\").cast(pl.Utf8))\n",
        "\n",
        "        df = df.with_columns(\n",
        "              pl.col('t').str.strptime(pl.Date, format='%m/%d/%Y %H:%M:%S', strict=False)\n",
        "    )\n",
        "\n",
        "        # Perform operations on the DataFrame\n",
        "        print(df.head(1))\n",
        "\n",
        "        # Print the columns in the DataFrame\n",
        "        print(f\"Columns in file {file_path}:\")\n",
        "        print(df.columns)\n",
        "        print(df.shape)\n",
        "        print(df.dtypes)\n",
        "\n",
        "        # Free up memory by deleting the DataFrame\n",
        "        del df\n",
        "\n",
        "        # Invoke garbage collection\n",
        "        gc.collect()\n",
        "\n",
        "print(\"Total number of files:\", count)\n",
        "\n"
      ]
    },
    {
      "cell_type": "code",
      "execution_count": 2,
      "metadata": {
        "id": "7jleS0GUhTBI"
      },
      "outputs": [],
      "source": [
        "import os\n",
        "import pandas as pd\n",
        "import polars as pl\n",
        "#from polars.lazy import *\n",
        "import pyarrow.parquet as pq\n",
        "\n",
        "from google.colab import drive"
      ]
    },
    {
      "cell_type": "code",
      "execution_count": 3,
      "metadata": {
        "colab": {
          "base_uri": "https://localhost:8080/"
        },
        "id": "r4ELEYphhd8l",
        "outputId": "4d7d5bef-b836-4ac5-c06d-a6892fe706b3"
      },
      "outputs": [
        {
          "output_type": "stream",
          "name": "stdout",
          "text": [
            "Mounted at /content/drive\n"
          ]
        }
      ],
      "source": [
        "# Mount Google Drive\n",
        "drive.mount('/content/drive', force_remount=True)\n",
        "\n",
        "# Specify the folder path where the .parquet files are located\n",
        "folder_path = '/content/drive/MyDrive/Colab Notebooks/Omdena/datasets/02 - intermediary'\n",
        "\n",
        "# Get a list of file paths for Parquet files ending with \"-log.parquet\"\n",
        "log_file_paths = [file for file in os.listdir(folder_path) if file.endswith('-log.parquet')]\n",
        "\n",
        "# Get a list of file paths for Parquet files ending with \"-raw.parquet\"\n",
        "raw_file_paths = [file for file in os.listdir(folder_path) if file.endswith('-raw.parquet')]\n",
        "\n",
        "# Get a list of file paths for Parquet files ending with \"-score.parquet\"\n",
        "score_file_paths = [file for file in os.listdir(folder_path) if file.endswith('-score.parquet')]\n",
        "\n",
        "# Read and append each Parquet file to the list\n",
        "def MergeFiles(file_paths):\n",
        "  dfs = []\n",
        "  for file_path in file_paths:\n",
        "      full_path = os.path.join(folder_path, file_path)\n",
        "      df = pl.read_parquet(full_path)\n",
        "      dfs.append(df)\n",
        "  return dfs"
      ]
    },
    {
      "cell_type": "code",
      "execution_count": null,
      "metadata": {
        "colab": {
          "base_uri": "https://localhost:8080/"
        },
        "id": "8Clofp5uM3Fd",
        "outputId": "e85df42f-480d-479f-d3ab-1ac39fecdbed"
      },
      "outputs": [
        {
          "output_type": "stream",
          "name": "stdout",
          "text": [
            "['t', 'logger_name', 'priority', 'message', 'user_id', '__index_level_0__']\n",
            "1\n",
            "['t', 'logger_name', 'priority', 'message', 'user_id', '__index_level_0__']\n",
            "2\n",
            "['t', 'logger_name', 'priority', 'message', 'user_id', '__index_level_0__']\n",
            "3\n",
            "['t', 'logger_name', 'priority', 'message', 'user_id']\n",
            "4\n",
            "['t', 'logger_name', 'priority', 'message', 'user_id', '__index_level_0__']\n",
            "5\n",
            "['t', 'logger_name', 'priority', 'message', 'user_id']\n",
            "6\n",
            "Concatenated DataFrame saved to /content/drive/MyDrive/Colab Notebooks/Omdena/fused_files_backup/merged_log.parquet\n"
          ]
        }
      ],
      "source": [
        "# Concatenate the Log DataFrames row-wise\n",
        "log_df = pl.DataFrame([])\n",
        "count = 0\n",
        "for df in MergeFiles(log_file_paths):\n",
        "  print(df.columns)\n",
        "  count = count + 1\n",
        "  print(count)\n",
        "\n",
        "  # Read the raw file as a Polars DataFrame\n",
        "  if '__index_level_0__' in df.columns:\n",
        "    df = df.drop('__index_level_0__')\n",
        "\n",
        "  df = df.with_columns(pl.col(\"t\").cast(pl.Utf8))\n",
        "  df = df.with_columns(pl.col(\"t\").str.slice(0, 19))\n",
        "  df = df.with_columns(pl.col('t').str.strptime(pl.Datetime, format='%Y-%m-%d %H:%M:%S', strict=False))\n",
        "\n",
        "  log_df = log_df.vstack(df)\n",
        "\n",
        "# Save the concatenated DataFrame to a new Parquet file\n",
        "output_path = '/content/drive/MyDrive/Colab Notebooks/Omdena/fused_files_backup/merged_log.parquet'\n",
        "log_df.write_parquet(output_path)\n",
        "\n",
        "print(f\"Concatenated DataFrame saved to {output_path}\")"
      ]
    },
    {
      "cell_type": "code",
      "execution_count": 4,
      "metadata": {
        "id": "LWbTA9FweGls",
        "colab": {
          "base_uri": "https://localhost:8080/"
        },
        "outputId": "3cf79696-486c-49c5-a881-8113f60c6441"
      },
      "outputs": [
        {
          "output_type": "stream",
          "name": "stdout",
          "text": [
            "Concatenated DataFrame saved to /content/drive/MyDrive/Colab Notebooks/Omdena/fused_files_backup/merged_raw.parquet\n"
          ]
        }
      ],
      "source": [
        "# Set the batch size\n",
        "batch_size = 10000000\n",
        "\n",
        "# Initialize an empty DataFrame to store the concatenated data\n",
        "raw_df = pl.DataFrame([])\n",
        "\n",
        "# Iterate over the raw file paths\n",
        "for file_path in raw_file_paths:\n",
        "    # Read the raw file as a Polars DataFrame\n",
        "    full_path = os.path.join(folder_path, file_path)\n",
        "    df = pl.read_parquet(full_path)\n",
        "    if '__index_level_0__' in df.columns:\n",
        "        df = df.drop('__index_level_0__')\n",
        "\n",
        "    df = df.with_columns(pl.col(\"t\").cast(pl.Utf8))\n",
        "    df = df.with_columns(pl.col(\"t\").str.slice(0, 19))\n",
        "    df = df.with_columns(pl.col('t').str.strptime(pl.Datetime, format='%Y-%m-%d %H:%M:%S', strict=False))\n",
        "    df = df.with_columns(pl.col(\"left\", \"right\", \"acc\", \"gyro\").cast(pl.List(pl.Int32)))\n",
        "    df = df.with_columns(pl.col(\"v\").cast(pl.Int32))\n",
        "\n",
        "    # Process and concatenate the DataFrames in batches\n",
        "    num_batches = len(df) // batch_size + 1  # Calculate the number of batches\n",
        "\n",
        "    for batch_idx in range(num_batches):\n",
        "        start_idx = batch_idx * batch_size\n",
        "        end_idx = start_idx + batch_size\n",
        "\n",
        "        # Extract the batch from the DataFrame\n",
        "        batch = df[start_idx:end_idx]\n",
        "\n",
        "        # Concatenate the batch DataFrame with the main DataFrame\n",
        "        raw_df = raw_df.vstack(batch)\n",
        "\n",
        "# Save the concatenated DataFrame to a new Parquet file\n",
        "output_path = '/content/drive/MyDrive/Colab Notebooks/Omdena/fused_files_backup/merged_raw.parquet'\n",
        "raw_df.write_parquet(output_path)\n",
        "\n",
        "print(f\"Concatenated DataFrame saved to {output_path}\")"
      ]
    },
    {
      "cell_type": "code",
      "execution_count": null,
      "metadata": {
        "colab": {
          "base_uri": "https://localhost:8080/"
        },
        "id": "uCQewbbXeHdX",
        "outputId": "eaed1be4-94cc-422e-d6dd-d52b826618b0"
      },
      "outputs": [
        {
          "output_type": "stream",
          "name": "stdout",
          "text": [
            "Concatenated DataFrame saved to /content/drive/MyDrive/Colab Notebooks/Omdena/fused_files_backup/merged_score.parquet\n"
          ]
        }
      ],
      "source": [
        "# Concatenate the Score DataFrames row-wise\n",
        "score_df = pl.DataFrame([])\n",
        "for df in MergeFiles(score_file_paths):\n",
        "\n",
        "  # Read the raw file as a Polars DataFrame\n",
        "  if '__index_level_0__' in df.columns:\n",
        "    df = df.drop('__index_level_0__')\n",
        "\n",
        "  df = df.with_columns(pl.col(\"t\").cast(pl.Utf8))\n",
        "  df = df.with_columns(pl.col(\"t\").str.slice(0, 19))\n",
        "  df = df.with_columns(pl.col('t').str.strptime(pl.Datetime, format='%Y-%m-%d %H:%M:%S', strict=False))\n",
        "\n",
        "  score_df = score_df.vstack(df)\n",
        "\n",
        "# Save the concatenated DataFrame to a new Parquet file\n",
        "output_path = '/content/drive/MyDrive/Colab Notebooks/Omdena/fused_files_backup/merged_score.parquet'\n",
        "score_df.write_parquet(output_path)\n",
        "\n",
        "print(f\"Concatenated DataFrame saved to {output_path}\")\n"
      ]
    },
    {
      "cell_type": "code",
      "source": [
        "!pip install gitpython\n",
        "from getpass import getpass\n",
        "import os\n",
        "from git import Repo\n",
        "\n",
        "# Clone the repository to Colab\n",
        "repo_url = getpass('Enter the GitHub repository URL: ')\n",
        "repo_path = os.path.join(os.getcwd(), 'repository')\n",
        "Repo.clone_from(repo_url, repo_path)\n",
        "\n",
        "# Change the working directory to the repository folder\n",
        "os.chdir(repo_path)\n"
      ],
      "metadata": {
        "colab": {
          "base_uri": "https://localhost:8080/"
        },
        "id": "YycUroRPBpde",
        "outputId": "9c1cfbe9-45de-487d-81dc-e61f90eb8d3a"
      },
      "execution_count": 1,
      "outputs": [
        {
          "name": "stdout",
          "output_type": "stream",
          "text": [
            "Looking in indexes: https://pypi.org/simple, https://us-python.pkg.dev/colab-wheels/public/simple/\n",
            "Collecting gitpython\n",
            "  Downloading GitPython-3.1.31-py3-none-any.whl (184 kB)\n",
            "\u001b[2K     \u001b[90m━━━━━━━━━━━━━━━━━━━━━━━━━━━━━━━━━━━━━━━\u001b[0m \u001b[32m184.3/184.3 kB\u001b[0m \u001b[31m4.9 MB/s\u001b[0m eta \u001b[36m0:00:00\u001b[0m\n",
            "\u001b[?25hCollecting gitdb<5,>=4.0.1 (from gitpython)\n",
            "  Downloading gitdb-4.0.10-py3-none-any.whl (62 kB)\n",
            "\u001b[2K     \u001b[90m━━━━━━━━━━━━━━━━━━━━━━━━━━━━━━━━━━━━━━━━\u001b[0m \u001b[32m62.7/62.7 kB\u001b[0m \u001b[31m6.7 MB/s\u001b[0m eta \u001b[36m0:00:00\u001b[0m\n",
            "\u001b[?25hCollecting smmap<6,>=3.0.1 (from gitdb<5,>=4.0.1->gitpython)\n",
            "  Downloading smmap-5.0.0-py3-none-any.whl (24 kB)\n",
            "Installing collected packages: smmap, gitdb, gitpython\n",
            "Successfully installed gitdb-4.0.10 gitpython-3.1.31 smmap-5.0.0\n",
            "Enter the GitHub repository URL: ··········\n"
          ]
        }
      ]
    },
    {
      "cell_type": "code",
      "source": [
        "!mkdir new-folder"
      ],
      "metadata": {
        "id": "bKUQjfC7CUmY"
      },
      "execution_count": 2,
      "outputs": []
    },
    {
      "cell_type": "code",
      "source": [
        "import shutil\n",
        "\n",
        "# Specify the file path and destination folder\n",
        "file_path = \"/content/repository/Omdena_Back Pain_fuse files_script.ipynb\"\n",
        "destination_folder = \"/content/repository/new-folder\"\n",
        "\n",
        "# Move the file to the destination folder\n",
        "shutil.move(file_path, destination_folder)\n",
        "\n"
      ],
      "metadata": {
        "colab": {
          "base_uri": "https://localhost:8080/",
          "height": 461
        },
        "id": "R5HqocCGCkvg",
        "outputId": "7adb3855-c2ea-4a04-b608-ea1fde75e8b5"
      },
      "execution_count": 27,
      "outputs": [
        {
          "output_type": "error",
          "ename": "FileNotFoundError",
          "evalue": "ignored",
          "traceback": [
            "\u001b[0;31m---------------------------------------------------------------------------\u001b[0m",
            "\u001b[0;31mFileNotFoundError\u001b[0m                         Traceback (most recent call last)",
            "\u001b[0;32m/usr/lib/python3.10/shutil.py\u001b[0m in \u001b[0;36mmove\u001b[0;34m(src, dst, copy_function)\u001b[0m\n\u001b[1;32m    815\u001b[0m     \u001b[0;32mtry\u001b[0m\u001b[0;34m:\u001b[0m\u001b[0;34m\u001b[0m\u001b[0;34m\u001b[0m\u001b[0m\n\u001b[0;32m--> 816\u001b[0;31m         \u001b[0mos\u001b[0m\u001b[0;34m.\u001b[0m\u001b[0mrename\u001b[0m\u001b[0;34m(\u001b[0m\u001b[0msrc\u001b[0m\u001b[0;34m,\u001b[0m \u001b[0mreal_dst\u001b[0m\u001b[0;34m)\u001b[0m\u001b[0;34m\u001b[0m\u001b[0;34m\u001b[0m\u001b[0m\n\u001b[0m\u001b[1;32m    817\u001b[0m     \u001b[0;32mexcept\u001b[0m \u001b[0mOSError\u001b[0m\u001b[0;34m:\u001b[0m\u001b[0;34m\u001b[0m\u001b[0;34m\u001b[0m\u001b[0m\n",
            "\u001b[0;31mFileNotFoundError\u001b[0m: [Errno 2] No such file or directory: '/content/repository/Omdena_Back Pain_fuse files_script.ipynb' -> '/content/repository/new-folder/Omdena_Back Pain_fuse files_script.ipynb'",
            "\nDuring handling of the above exception, another exception occurred:\n",
            "\u001b[0;31mFileNotFoundError\u001b[0m                         Traceback (most recent call last)",
            "\u001b[0;32m<ipython-input-27-4df6ac32dab2>\u001b[0m in \u001b[0;36m<cell line: 8>\u001b[0;34m()\u001b[0m\n\u001b[1;32m      6\u001b[0m \u001b[0;34m\u001b[0m\u001b[0m\n\u001b[1;32m      7\u001b[0m \u001b[0;31m# Move the file to the destination folder\u001b[0m\u001b[0;34m\u001b[0m\u001b[0;34m\u001b[0m\u001b[0m\n\u001b[0;32m----> 8\u001b[0;31m \u001b[0mshutil\u001b[0m\u001b[0;34m.\u001b[0m\u001b[0mmove\u001b[0m\u001b[0;34m(\u001b[0m\u001b[0mfile_path\u001b[0m\u001b[0;34m,\u001b[0m \u001b[0mdestination_folder\u001b[0m\u001b[0;34m)\u001b[0m\u001b[0;34m\u001b[0m\u001b[0;34m\u001b[0m\u001b[0m\n\u001b[0m\u001b[1;32m      9\u001b[0m \u001b[0;34m\u001b[0m\u001b[0m\n",
            "\u001b[0;32m/usr/lib/python3.10/shutil.py\u001b[0m in \u001b[0;36mmove\u001b[0;34m(src, dst, copy_function)\u001b[0m\n\u001b[1;32m    834\u001b[0m             \u001b[0mrmtree\u001b[0m\u001b[0;34m(\u001b[0m\u001b[0msrc\u001b[0m\u001b[0;34m)\u001b[0m\u001b[0;34m\u001b[0m\u001b[0;34m\u001b[0m\u001b[0m\n\u001b[1;32m    835\u001b[0m         \u001b[0;32melse\u001b[0m\u001b[0;34m:\u001b[0m\u001b[0;34m\u001b[0m\u001b[0;34m\u001b[0m\u001b[0m\n\u001b[0;32m--> 836\u001b[0;31m             \u001b[0mcopy_function\u001b[0m\u001b[0;34m(\u001b[0m\u001b[0msrc\u001b[0m\u001b[0;34m,\u001b[0m \u001b[0mreal_dst\u001b[0m\u001b[0;34m)\u001b[0m\u001b[0;34m\u001b[0m\u001b[0;34m\u001b[0m\u001b[0m\n\u001b[0m\u001b[1;32m    837\u001b[0m             \u001b[0mos\u001b[0m\u001b[0;34m.\u001b[0m\u001b[0munlink\u001b[0m\u001b[0;34m(\u001b[0m\u001b[0msrc\u001b[0m\u001b[0;34m)\u001b[0m\u001b[0;34m\u001b[0m\u001b[0;34m\u001b[0m\u001b[0m\n\u001b[1;32m    838\u001b[0m     \u001b[0;32mreturn\u001b[0m \u001b[0mreal_dst\u001b[0m\u001b[0;34m\u001b[0m\u001b[0;34m\u001b[0m\u001b[0m\n",
            "\u001b[0;32m/usr/lib/python3.10/shutil.py\u001b[0m in \u001b[0;36mcopy2\u001b[0;34m(src, dst, follow_symlinks)\u001b[0m\n\u001b[1;32m    432\u001b[0m     \u001b[0;32mif\u001b[0m \u001b[0mos\u001b[0m\u001b[0;34m.\u001b[0m\u001b[0mpath\u001b[0m\u001b[0;34m.\u001b[0m\u001b[0misdir\u001b[0m\u001b[0;34m(\u001b[0m\u001b[0mdst\u001b[0m\u001b[0;34m)\u001b[0m\u001b[0;34m:\u001b[0m\u001b[0;34m\u001b[0m\u001b[0;34m\u001b[0m\u001b[0m\n\u001b[1;32m    433\u001b[0m         \u001b[0mdst\u001b[0m \u001b[0;34m=\u001b[0m \u001b[0mos\u001b[0m\u001b[0;34m.\u001b[0m\u001b[0mpath\u001b[0m\u001b[0;34m.\u001b[0m\u001b[0mjoin\u001b[0m\u001b[0;34m(\u001b[0m\u001b[0mdst\u001b[0m\u001b[0;34m,\u001b[0m \u001b[0mos\u001b[0m\u001b[0;34m.\u001b[0m\u001b[0mpath\u001b[0m\u001b[0;34m.\u001b[0m\u001b[0mbasename\u001b[0m\u001b[0;34m(\u001b[0m\u001b[0msrc\u001b[0m\u001b[0;34m)\u001b[0m\u001b[0;34m)\u001b[0m\u001b[0;34m\u001b[0m\u001b[0;34m\u001b[0m\u001b[0m\n\u001b[0;32m--> 434\u001b[0;31m     \u001b[0mcopyfile\u001b[0m\u001b[0;34m(\u001b[0m\u001b[0msrc\u001b[0m\u001b[0;34m,\u001b[0m \u001b[0mdst\u001b[0m\u001b[0;34m,\u001b[0m \u001b[0mfollow_symlinks\u001b[0m\u001b[0;34m=\u001b[0m\u001b[0mfollow_symlinks\u001b[0m\u001b[0;34m)\u001b[0m\u001b[0;34m\u001b[0m\u001b[0;34m\u001b[0m\u001b[0m\n\u001b[0m\u001b[1;32m    435\u001b[0m     \u001b[0mcopystat\u001b[0m\u001b[0;34m(\u001b[0m\u001b[0msrc\u001b[0m\u001b[0;34m,\u001b[0m \u001b[0mdst\u001b[0m\u001b[0;34m,\u001b[0m \u001b[0mfollow_symlinks\u001b[0m\u001b[0;34m=\u001b[0m\u001b[0mfollow_symlinks\u001b[0m\u001b[0;34m)\u001b[0m\u001b[0;34m\u001b[0m\u001b[0;34m\u001b[0m\u001b[0m\n\u001b[1;32m    436\u001b[0m     \u001b[0;32mreturn\u001b[0m \u001b[0mdst\u001b[0m\u001b[0;34m\u001b[0m\u001b[0;34m\u001b[0m\u001b[0m\n",
            "\u001b[0;32m/usr/lib/python3.10/shutil.py\u001b[0m in \u001b[0;36mcopyfile\u001b[0;34m(src, dst, follow_symlinks)\u001b[0m\n\u001b[1;32m    252\u001b[0m         \u001b[0mos\u001b[0m\u001b[0;34m.\u001b[0m\u001b[0msymlink\u001b[0m\u001b[0;34m(\u001b[0m\u001b[0mos\u001b[0m\u001b[0;34m.\u001b[0m\u001b[0mreadlink\u001b[0m\u001b[0;34m(\u001b[0m\u001b[0msrc\u001b[0m\u001b[0;34m)\u001b[0m\u001b[0;34m,\u001b[0m \u001b[0mdst\u001b[0m\u001b[0;34m)\u001b[0m\u001b[0;34m\u001b[0m\u001b[0;34m\u001b[0m\u001b[0m\n\u001b[1;32m    253\u001b[0m     \u001b[0;32melse\u001b[0m\u001b[0;34m:\u001b[0m\u001b[0;34m\u001b[0m\u001b[0;34m\u001b[0m\u001b[0m\n\u001b[0;32m--> 254\u001b[0;31m         \u001b[0;32mwith\u001b[0m \u001b[0mopen\u001b[0m\u001b[0;34m(\u001b[0m\u001b[0msrc\u001b[0m\u001b[0;34m,\u001b[0m \u001b[0;34m'rb'\u001b[0m\u001b[0;34m)\u001b[0m \u001b[0;32mas\u001b[0m \u001b[0mfsrc\u001b[0m\u001b[0;34m:\u001b[0m\u001b[0;34m\u001b[0m\u001b[0;34m\u001b[0m\u001b[0m\n\u001b[0m\u001b[1;32m    255\u001b[0m             \u001b[0;32mtry\u001b[0m\u001b[0;34m:\u001b[0m\u001b[0;34m\u001b[0m\u001b[0;34m\u001b[0m\u001b[0m\n\u001b[1;32m    256\u001b[0m                 \u001b[0;32mwith\u001b[0m \u001b[0mopen\u001b[0m\u001b[0;34m(\u001b[0m\u001b[0mdst\u001b[0m\u001b[0;34m,\u001b[0m \u001b[0;34m'wb'\u001b[0m\u001b[0;34m)\u001b[0m \u001b[0;32mas\u001b[0m \u001b[0mfdst\u001b[0m\u001b[0;34m:\u001b[0m\u001b[0;34m\u001b[0m\u001b[0;34m\u001b[0m\u001b[0m\n",
            "\u001b[0;31mFileNotFoundError\u001b[0m: [Errno 2] No such file or directory: '/content/repository/Omdena_Back Pain_fuse files_script.ipynb'"
          ]
        }
      ]
    },
    {
      "cell_type": "code",
      "source": [
        "/content/repository"
      ],
      "metadata": {
        "id": "oJtOWrXHQafy"
      },
      "execution_count": null,
      "outputs": []
    },
    {
      "cell_type": "code",
      "source": [
        "os.getcwd()"
      ],
      "metadata": {
        "colab": {
          "base_uri": "https://localhost:8080/",
          "height": 35
        },
        "id": "o-EVPVKOK75H",
        "outputId": "11079c71-ff6b-40ed-9a46-5fc7b4653842"
      },
      "execution_count": 24,
      "outputs": [
        {
          "output_type": "execute_result",
          "data": {
            "text/plain": [
              "'/content/repository'"
            ],
            "application/vnd.google.colaboratory.intrinsic+json": {
              "type": "string"
            }
          },
          "metadata": {},
          "execution_count": 24
        }
      ]
    },
    {
      "cell_type": "code",
      "source": [
        "!ls"
      ],
      "metadata": {
        "colab": {
          "base_uri": "https://localhost:8080/"
        },
        "id": "izfdpzRrLaCg",
        "outputId": "d61da870-1226-4cd6-b115-886a68b23c90"
      },
      "execution_count": 25,
      "outputs": [
        {
          "output_type": "stream",
          "name": "stdout",
          "text": [
            "data.dvc  new-folder  requirements.txt\tsrc\n"
          ]
        }
      ]
    },
    {
      "cell_type": "code",
      "source": [
        "# Check the current working directory explicitly\n",
        "%pwd"
      ],
      "metadata": {
        "colab": {
          "base_uri": "https://localhost:8080/",
          "height": 35
        },
        "id": "kany-N-eLOF-",
        "outputId": "117fb763-c74c-4ba3-bc20-85e09099d883"
      },
      "execution_count": 26,
      "outputs": [
        {
          "output_type": "execute_result",
          "data": {
            "text/plain": [
              "'/content/repository'"
            ],
            "application/vnd.google.colaboratory.intrinsic+json": {
              "type": "string"
            }
          },
          "metadata": {},
          "execution_count": 26
        }
      ]
    },
    {
      "cell_type": "code",
      "source": [
        "mv /content/repository/Omdena_Back Pain_fuse files_script.py new-folder/\n"
      ],
      "metadata": {
        "id": "YHRXW4CYQhNP"
      },
      "execution_count": null,
      "outputs": []
    }
  ],
  "metadata": {
    "accelerator": "GPU",
    "colab": {
      "machine_shape": "hm",
      "provenance": [],
      "authorship_tag": "ABX9TyOWyfWJfkY30HFoDbJFAri4",
      "include_colab_link": true
    },
    "kernelspec": {
      "display_name": "Python 3",
      "name": "python3"
    },
    "language_info": {
      "name": "python"
    }
  },
  "nbformat": 4,
  "nbformat_minor": 0
}